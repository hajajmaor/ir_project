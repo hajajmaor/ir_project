{
 "cells": [
  {
   "cell_type": "markdown",
   "metadata": {},
   "source": [
    "- Install nltk."
   ]
  },
  {
   "cell_type": "code",
   "execution_count": 1,
   "metadata": {},
   "outputs": [
    {
     "name": "stdout",
     "output_type": "stream",
     "text": [
      "Requirement already satisfied: nltk in c:\\users\\doroncohen\\miniconda3\\envs\\py37\\lib\\site-packages (3.4.4)\n",
      "Requirement already satisfied: six in c:\\users\\doroncohen\\miniconda3\\envs\\py37\\lib\\site-packages (from nltk) (1.15.0)\n",
      "Note: you may need to restart the kernel to use updated packages.\n"
     ]
    }
   ],
   "source": [
    "# pip install nltk"
   ]
  },
  {
   "cell_type": "markdown",
   "metadata": {},
   "source": [
    "- Import the packages we need."
   ]
  },
  {
   "cell_type": "code",
   "execution_count": 1,
   "metadata": {},
   "outputs": [],
   "source": [
    "import os\n",
    "import nltk\n",
    "from nltk.tokenize import sent_tokenize, word_tokenize\n",
    "from nltk.corpus import stopwords\n",
    "from nltk.stem import snowball\n",
    "from collections import defaultdict"
   ]
  },
  {
   "cell_type": "markdown",
   "metadata": {},
   "source": [
    "- prepare a set of stems of words we would like to ignore."
   ]
  },
  {
   "cell_type": "code",
   "execution_count": 3,
   "metadata": {},
   "outputs": [
    {
     "name": "stdout",
     "output_type": "stream",
     "text": [
      "169\n"
     ]
    }
   ],
   "source": [
    "stemmer = snowball.SnowballStemmer('english')\n",
    "if not stopwords:\n",
    "    nltk.download('stopwords')\n",
    "stopped_tokens = set(stemmer.stem(w) for w in stopwords.words('english'))\n",
    "print(len(stopped_tokens))"
   ]
  },
  {
   "cell_type": "markdown",
   "metadata": {},
   "source": [
    "- Assume a directory with documents to index. \\\n",
    "  Each document is in plain text, in a text file of its own."
   ]
  },
  {
   "cell_type": "code",
   "execution_count": 4,
   "metadata": {},
   "outputs": [],
   "source": [
    "input_dir = '/dc/tmp/docs'"
   ]
  },
  {
   "cell_type": "markdown",
   "metadata": {},
   "source": [
    "- populate the inverted index"
   ]
  },
  {
   "cell_type": "code",
   "execution_count": 5,
   "metadata": {},
   "outputs": [],
   "source": [
    "inv = dict()  # the inverted index is empty at start\n",
    "for docid, f in enumerate(os.listdir(input_dir)):\n",
    "    with open(os.path.join(input_dir, f), 'r', encoding='utf8') as r:\n",
    "        for line in r.readlines():\n",
    "            # split doc lines into sentences\n",
    "            for sent in sent_tokenize(line):\n",
    "                # split sentence into words\n",
    "                tokens = [stemmer.stem(w) for w in word_tokenize(sent)]\n",
    "                # add tokens to index except fpr stopped ones\n",
    "                for token in [t for t in tokens if t not in stopped_tokens]:\n",
    "                    doc_freq = inv.setdefault(token, dict())\n",
    "                    doc_freq[docid] = 1 + doc_freq.setdefault(docid, 0)"
   ]
  },
  {
   "cell_type": "code",
   "execution_count": 6,
   "metadata": {},
   "outputs": [
    {
     "name": "stdout",
     "output_type": "stream",
     "text": [
      "329\n"
     ]
    }
   ],
   "source": [
    "print(len(inv))"
   ]
  },
  {
   "cell_type": "code",
   "execution_count": null,
   "metadata": {},
   "outputs": [],
   "source": []
  }
 ],
 "metadata": {
  "kernelspec": {
   "display_name": "Python 3",
   "language": "python",
   "name": "python3"
  },
  "language_info": {
   "codemirror_mode": {
    "name": "ipython",
    "version": 3
   },
   "file_extension": ".py",
   "mimetype": "text/x-python",
   "name": "python",
   "nbconvert_exporter": "python",
   "pygments_lexer": "ipython3",
   "version": "3.8.5"
  }
 },
 "nbformat": 4,
 "nbformat_minor": 4
}
