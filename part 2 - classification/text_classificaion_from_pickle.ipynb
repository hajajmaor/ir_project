{
 "cells": [
  {
   "cell_type": "code",
   "execution_count": 1,
   "metadata": {},
   "outputs": [],
   "source": [
    "import sys\n",
    "sys.path.append('../')"
   ]
  },
  {
   "cell_type": "code",
   "execution_count": 2,
   "metadata": {},
   "outputs": [],
   "source": [
    "import pandas as pd\n",
    "import numpy as np\n",
    "from pickle import load\n",
    "# import train_test_split \n",
    "from sklearn.model_selection import train_test_split,cross_val_score\n",
    "import matplotlib.pyplot as plt\n",
    "from sklearn.metrics import confusion_matrix, accuracy_score, classification_report\n",
    "from sklearn.linear_model import LogisticRegression\n",
    "from sklearn.naive_bayes import GaussianNB\n",
    "from sklearn.neighbors import KNeighborsClassifier\n",
    "from sklearn.ensemble import RandomForestClassifier"
   ]
  },
  {
   "cell_type": "markdown",
   "metadata": {},
   "source": [
    "TODO:\n",
    " 1. load all the documents\n",
    " 2. vectorize each document, 1 for word existing in the document, 0 for not existing\n",
    " 3. cluster the documents"
   ]
  },
  {
   "cell_type": "markdown",
   "metadata": {},
   "source": [
    "לטעון את כל המסמכים\n",
    "\n",
    "להפריד כל מסמך לפי רווח רגיל\n",
    "\n",
    "לעשות אוסף של המילים\n",
    "\n",
    "ולעבור כל מסמך ומסמך, האם מילה קיימת או לא.\n",
    "\n",
    "בלי stemming ובלי הורדת מילות טפל"
   ]
  },
  {
   "cell_type": "code",
   "execution_count": 3,
   "metadata": {},
   "outputs": [],
   "source": [
    "with open(\"df after category - model vectors for classification.pcl\",\"rb\") as file:\n",
    "    df=load(file)"
   ]
  },
  {
   "cell_type": "code",
   "execution_count": 4,
   "metadata": {},
   "outputs": [
    {
     "data": {
      "text/plain": [
       "0    52\n",
       "1    48\n",
       "Name: category, dtype: int64"
      ]
     },
     "execution_count": 4,
     "metadata": {},
     "output_type": "execute_result"
    }
   ],
   "source": [
    "\n",
    "df[\"category\"].value_counts()\n",
    "# df.drop(columns=[\"category\"],inplace=True)\n",
    "#צריכים לראות 50-50"
   ]
  },
  {
   "cell_type": "code",
   "execution_count": 5,
   "metadata": {},
   "outputs": [],
   "source": [
    "# df : collection of vectors\n",
    "X=df.drop([\"category\"],axis=1)\n",
    "y=df[\"category\"]\n",
    "\n",
    "# X_train, X_test, y_train, y_test = train_test_split(\n",
    "# X, y, test_size=0.10, random_state=69)"
   ]
  },
  {
   "cell_type": "code",
   "execution_count": 6,
   "metadata": {},
   "outputs": [],
   "source": [
    "# אימון classifiers"
   ]
  },
  {
   "cell_type": "code",
   "execution_count": 7,
   "metadata": {},
   "outputs": [],
   "source": [
    "# from sklearn.linear_model import LogisticRegression\n",
    "# from sklearn.naive_bayes import GaussianNB\n",
    "# from sklearn.neighbors import KNeighborsClassifier\n",
    "# from sklearn.ensemble import RandomForestClassifier"
   ]
  },
  {
   "cell_type": "code",
   "execution_count": 8,
   "metadata": {},
   "outputs": [],
   "source": [
    "from sklearn.model_selection import cross_val_predict"
   ]
  },
  {
   "cell_type": "code",
   "execution_count": 9,
   "metadata": {},
   "outputs": [],
   "source": [
    "# pred=cross_val_predict(LogisticRegression(), X, y, cv=10)"
   ]
  },
  {
   "cell_type": "code",
   "execution_count": 10,
   "metadata": {},
   "outputs": [],
   "source": [
    "# y_arr=y.to_numpy()"
   ]
  },
  {
   "cell_type": "code",
   "execution_count": 11,
   "metadata": {},
   "outputs": [],
   "source": [
    "# df['pred']=pred"
   ]
  },
  {
   "cell_type": "code",
   "execution_count": 12,
   "metadata": {},
   "outputs": [],
   "source": [
    "# df[df['pred']!=df['category']].index\n",
    "# "
   ]
  },
  {
   "cell_type": "code",
   "execution_count": 13,
   "metadata": {},
   "outputs": [],
   "source": [
    "# df.drop(columns=[\"pred\"],inplace=True)"
   ]
  },
  {
   "cell_type": "code",
   "execution_count": 14,
   "metadata": {},
   "outputs": [],
   "source": [
    "models={\"LogisticRegression\":LogisticRegression(),\n",
    "        \"GaussianNB\":GaussianNB(),\n",
    "        \"KNeighborsClassifier\":KNeighborsClassifier(2,weights='distance',algorithm='auto'),\n",
    "        \"RandomForestClassifier\":RandomForestClassifier(n_estimators=250)\n",
    "        }\n",
    "# runs=[cross_val_score(model,X,y,cv=10) for model in models.values()]"
   ]
  },
  {
   "cell_type": "code",
   "execution_count": 21,
   "metadata": {},
   "outputs": [],
   "source": [
    "def get_diff_results(model):\n",
    "    pred=cross_val_predict(model, X, y, cv=10)\n",
    "    return df[df['category']!=pred].index"
   ]
  },
  {
   "cell_type": "code",
   "execution_count": 22,
   "metadata": {},
   "outputs": [
    {
     "name": "stdout",
     "output_type": "stream",
     "text": [
      "LogisticRegression\n",
      "Int64Index([5, 9, 11, 26, 35, 46, 47, 52, 57, 69, 89, 90, 91, 94, 95, 96, 99], dtype='int64')\n",
      "\n",
      "\n",
      "GaussianNB\n",
      "Int64Index([ 1,  2,  3, 11, 14, 18, 19, 20, 26, 29, 30, 32, 33, 35, 36, 40, 41,\n",
      "            42, 44, 45, 46, 52, 84, 99],\n",
      "           dtype='int64')\n",
      "\n",
      "\n",
      "KNeighborsClassifier\n",
      "Int64Index([ 1,  2,  3,  4,  5,  6,  8,  9, 10, 11, 12, 13, 14, 15, 16, 17, 18,\n",
      "            19, 20, 21, 22, 23, 24, 25, 26, 27, 28, 29, 30, 31, 32, 33, 35, 36,\n",
      "            37, 38, 39, 40, 41, 42, 43, 44, 45, 46, 47, 48, 57],\n",
      "           dtype='int64')\n",
      "\n",
      "\n",
      "RandomForestClassifier\n",
      "Int64Index([5, 9, 11, 13, 24, 26, 52, 57, 74, 89, 90, 95, 96, 99], dtype='int64')\n",
      "\n",
      "\n"
     ]
    }
   ],
   "source": [
    "returnes=[]\n",
    "lst=list(models.keys())\n",
    "for i in range(len(models)):\n",
    "    print(lst[i])\n",
    "    returnes.append(get_diff_results(models[lst[i]]))\n",
    "    print(returnes[-1])\n",
    "    print(\"\\n\")"
   ]
  },
  {
   "cell_type": "code",
   "execution_count": 26,
   "metadata": {},
   "outputs": [
    {
     "data": {
      "text/plain": [
       "{11, 26}"
      ]
     },
     "execution_count": 26,
     "metadata": {},
     "output_type": "execute_result"
    }
   ],
   "source": [
    "sets=[set(row) for row in returnes]\n",
    "set.intersection(*sets)"
   ]
  },
  {
   "cell_type": "code",
   "execution_count": 27,
   "metadata": {},
   "outputs": [
    {
     "data": {
      "text/plain": [
       "{1,\n",
       " 2,\n",
       " 3,\n",
       " 11,\n",
       " 14,\n",
       " 18,\n",
       " 19,\n",
       " 20,\n",
       " 26,\n",
       " 29,\n",
       " 30,\n",
       " 32,\n",
       " 33,\n",
       " 35,\n",
       " 36,\n",
       " 40,\n",
       " 41,\n",
       " 42,\n",
       " 44,\n",
       " 45,\n",
       " 46}"
      ]
     },
     "execution_count": 27,
     "metadata": {},
     "output_type": "execute_result"
    }
   ],
   "source": [
    "sets[1].intersection(sets[2])"
   ]
  },
  {
   "cell_type": "code",
   "execution_count": null,
   "metadata": {},
   "outputs": [],
   "source": [
    "# model_logistic_regression=LogisticRegression()\n",
    "# model_logistic_regression.fit(X_train,y_train)\n",
    "# logistic_regression_pred=model_logistic_regression.predict(X_test)\n"
   ]
  },
  {
   "cell_type": "code",
   "execution_count": null,
   "metadata": {},
   "outputs": [],
   "source": [
    "# print(classification_report(y_test,logistic_regression_pred))"
   ]
  },
  {
   "cell_type": "code",
   "execution_count": null,
   "metadata": {},
   "outputs": [],
   "source": [
    "# model_naive_bayes=GaussianNB()\n",
    "# model_naive_bayes.fit(X_train,y_train)\n",
    "# naive_bayes_pred=model_naive_bayes.predict(X_test)"
   ]
  },
  {
   "cell_type": "code",
   "execution_count": null,
   "metadata": {},
   "outputs": [],
   "source": [
    "# print(classification_report(y_test,naive_bayes_pred))"
   ]
  },
  {
   "cell_type": "markdown",
   "metadata": {},
   "source": []
  },
  {
   "cell_type": "code",
   "execution_count": null,
   "metadata": {},
   "outputs": [],
   "source": [
    "# model_k_neighbors_classifier=KNeighborsClassifier(2,weights='distance',algorithm='auto')\n",
    "# model_k_neighbors_classifier.fit(X_train,y_train)\n",
    "# k_neighbors_classifier_pred=model_k_neighbors_classifier.predict(X_test)"
   ]
  },
  {
   "cell_type": "code",
   "execution_count": null,
   "metadata": {},
   "outputs": [],
   "source": [
    "# print(classification_report(y_test,k_neighbors_classifier_pred,zero_division=0))"
   ]
  },
  {
   "cell_type": "code",
   "execution_count": null,
   "metadata": {},
   "outputs": [],
   "source": [
    "# model_random_forest=RandomForestClassifier(n_estimators=500)\n",
    "# model_random_forest.fit(X_train,y_train)\n",
    "# random_forest_pred=model_random_forest.predict(X_test)"
   ]
  },
  {
   "cell_type": "code",
   "execution_count": null,
   "metadata": {},
   "outputs": [],
   "source": [
    "# print(classification_report(y_test,random_forest_pred))"
   ]
  },
  {
   "cell_type": "code",
   "execution_count": null,
   "metadata": {},
   "outputs": [],
   "source": [
    "# df.info()"
   ]
  },
  {
   "cell_type": "code",
   "execution_count": null,
   "metadata": {},
   "outputs": [],
   "source": [
    "# X_test['category']=y_test\n",
    "# def print_diffs(pred):\n",
    "#     X_test['pred']=pred\n",
    "#     res=list(X_test.loc[X_test['category']!=X_test['pred']].index)\n",
    "#     for num in res:\n",
    "#         if num<=48:\n",
    "#             print(f\"{num} - FN\")\n",
    "#         else:\n",
    "#             print(f\"{num} - FP\")\n",
    "#     X_test.drop(columns=[\"pred\"],inplace=True)"
   ]
  },
  {
   "cell_type": "code",
   "execution_count": null,
   "metadata": {},
   "outputs": [],
   "source": [
    "# print(\"logistic regression classified wrong: \")\n",
    "# print_diffs(logistic_regression_pred)\n",
    "# print(\"\\nnaive bayes classified wrong: \")\n",
    "# print_diffs(naive_bayes_pred)\n",
    "# print(\"\\nk neighbors classified wrong: \")\n",
    "# print_diffs(k_neighbors_classifier_pred)\n",
    "# print(\"\\nrandom forest classified wrong: \")\n",
    "# print_diffs(random_forest_pred)"
   ]
  },
  {
   "cell_type": "markdown",
   "metadata": {},
   "source": [
    "מאמר מספר 9\n",
    "יוצא בכל המסווגים FP\n",
    "מאמרים 14,32,90 יוצאים fp ב2 מסווגים שונים."
   ]
  }
 ],
 "metadata": {
  "interpreter": {
   "hash": "9b025add082eba9f465bb7a51d61eaafbf35b7a16776511b49a7c1679204e3ae"
  },
  "kernelspec": {
   "display_name": "Python 3.8.5 64-bit ('base': conda)",
   "language": "python",
   "name": "python3"
  },
  "language_info": {
   "codemirror_mode": {
    "name": "ipython",
    "version": 3
   },
   "file_extension": ".py",
   "mimetype": "text/x-python",
   "name": "python",
   "nbconvert_exporter": "python",
   "pygments_lexer": "ipython3",
   "version": "3.9.7"
  },
  "orig_nbformat": 4
 },
 "nbformat": 4,
 "nbformat_minor": 2
}
