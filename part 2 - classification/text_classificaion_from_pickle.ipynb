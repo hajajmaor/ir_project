{
 "cells": [
  {
   "cell_type": "code",
   "execution_count": 1,
   "metadata": {},
   "outputs": [],
   "source": [
    "import sys\n",
    "sys.path.append('../')"
   ]
  },
  {
   "cell_type": "code",
   "execution_count": 2,
   "metadata": {},
   "outputs": [],
   "source": [
    "import pandas as pd\n",
    "import numpy as np\n",
    "from pickle import load\n",
    "# import train_test_split \n",
    "from sklearn.model_selection import train_test_split,cross_val_score\n",
    "import matplotlib.pyplot as plt\n",
    "from sklearn.metrics import confusion_matrix, accuracy_score, classification_report\n",
    "from sklearn.linear_model import LogisticRegression\n",
    "from sklearn.naive_bayes import GaussianNB\n",
    "from sklearn.neighbors import KNeighborsClassifier\n",
    "from sklearn.ensemble import RandomForestClassifier"
   ]
  },
  {
   "cell_type": "markdown",
   "metadata": {},
   "source": [
    "TODO:\n",
    " 1. load all the documents\n",
    " 2. vectorize each document, 1 for word existing in the document, 0 for not existing\n",
    " 3. cluster the documents"
   ]
  },
  {
   "cell_type": "markdown",
   "metadata": {},
   "source": [
    "לטעון את כל המסמכים\n",
    "\n",
    "להפריד כל מסמך לפי רווח רגיל\n",
    "\n",
    "לעשות אוסף של המילים\n",
    "\n",
    "ולעבור כל מסמך ומסמך, האם מילה קיימת או לא.\n",
    "\n",
    "בלי stemming ובלי הורדת מילות טפל"
   ]
  },
  {
   "cell_type": "code",
   "execution_count": 3,
   "metadata": {},
   "outputs": [],
   "source": [
    "with open(\"df after category - model vectors for classification.pcl\",\"rb\") as file:\n",
    "    df=load(file)"
   ]
  },
  {
   "cell_type": "code",
   "execution_count": 4,
   "metadata": {},
   "outputs": [
    {
     "data": {
      "text/plain": [
       "0    52\n",
       "1    48\n",
       "Name: category, dtype: int64"
      ]
     },
     "execution_count": 4,
     "metadata": {},
     "output_type": "execute_result"
    }
   ],
   "source": [
    "\n",
    "df[\"category\"].value_counts()\n",
    "# df.drop(columns=[\"category\"],inplace=True)\n",
    "#צריכים לראות 50-50"
   ]
  },
  {
   "cell_type": "code",
   "execution_count": 5,
   "metadata": {},
   "outputs": [],
   "source": [
    "# df : collection of vectors\n",
    "X=df.drop([\"category\"],axis=1)\n",
    "y=df[\"category\"]\n",
    "\n",
    "X_train, X_test, y_train, y_test = train_test_split(\n",
    "X, y, test_size=0.10, random_state=69)"
   ]
  },
  {
   "cell_type": "code",
   "execution_count": 6,
   "metadata": {},
   "outputs": [],
   "source": [
    "# אימון classifiers"
   ]
  },
  {
   "cell_type": "code",
   "execution_count": 7,
   "metadata": {},
   "outputs": [],
   "source": [
    "# from sklearn.linear_model import LogisticRegression\n",
    "# from sklearn.naive_bayes import GaussianNB\n",
    "# from sklearn.neighbors import KNeighborsClassifier\n",
    "# from sklearn.ensemble import RandomForestClassifier"
   ]
  },
  {
   "cell_type": "code",
   "execution_count": 18,
   "metadata": {},
   "outputs": [],
   "source": [
    "models={\"LogisticRegression\":LogisticRegression(),\n",
    "        \"GaussianNB\":GaussianNB(),\n",
    "        \"KNeighborsClassifier\":KNeighborsClassifier(2,weights='distance',algorithm='auto'),\n",
    "        \"RandomForestClassifier\":RandomForestClassifier(n_estimators=250)\n",
    "        }\n",
    "runs=[cross_val_score(model,X_train,y_train,cv=10) for model in models.values()]"
   ]
  },
  {
   "cell_type": "code",
   "execution_count": 19,
   "metadata": {},
   "outputs": [
    {
     "name": "stdout",
     "output_type": "stream",
     "text": [
      "LogisticRegression:\n",
      "[0.66666667 1.         0.66666667 0.77777778 1.         1.\n",
      " 0.88888889 0.88888889 0.77777778 0.66666667],\n",
      "\n",
      " means:0.8333333333333333 \n",
      "\n",
      "GaussianNB:\n",
      "[0.77777778 0.77777778 0.55555556 0.88888889 0.66666667 0.77777778\n",
      " 0.77777778 0.77777778 1.         0.77777778],\n",
      "\n",
      " means:0.7777777777777778 \n",
      "\n",
      "KNeighborsClassifier:\n",
      "[0.55555556 0.66666667 0.55555556 0.55555556 0.55555556 0.55555556\n",
      " 0.55555556 0.44444444 0.33333333 0.44444444],\n",
      "\n",
      " means:0.5222222222222223 \n",
      "\n",
      "RandomForestClassifier:\n",
      "[0.66666667 1.         0.66666667 0.77777778 0.88888889 1.\n",
      " 0.77777778 0.88888889 0.88888889 0.66666667],\n",
      "\n",
      " means:0.8222222222222222 \n",
      "\n"
     ]
    }
   ],
   "source": [
    "lst=list(models.keys())\n",
    "for i in range(len(models)):\n",
    "    print(\"{}:\\n{},\\n\\n means:{} \\n\".format(lst[i],runs[i],runs[i].mean()))"
   ]
  },
  {
   "cell_type": "code",
   "execution_count": 10,
   "metadata": {},
   "outputs": [],
   "source": [
    "# model_logistic_regression=LogisticRegression()\n",
    "# model_logistic_regression.fit(X_train,y_train)\n",
    "# logistic_regression_pred=model_logistic_regression.predict(X_test)\n"
   ]
  },
  {
   "cell_type": "code",
   "execution_count": 11,
   "metadata": {},
   "outputs": [
    {
     "name": "stdout",
     "output_type": "stream",
     "text": [
      "              precision    recall  f1-score   support\n",
      "\n",
      "           0       0.80      0.80      0.80         5\n",
      "           1       0.80      0.80      0.80         5\n",
      "\n",
      "    accuracy                           0.80        10\n",
      "   macro avg       0.80      0.80      0.80        10\n",
      "weighted avg       0.80      0.80      0.80        10\n",
      "\n"
     ]
    }
   ],
   "source": [
    "# print(classification_report(y_test,logistic_regression_pred))"
   ]
  },
  {
   "cell_type": "code",
   "execution_count": 12,
   "metadata": {},
   "outputs": [],
   "source": [
    "# model_naive_bayes=GaussianNB()\n",
    "# model_naive_bayes.fit(X_train,y_train)\n",
    "# naive_bayes_pred=model_naive_bayes.predict(X_test)"
   ]
  },
  {
   "cell_type": "code",
   "execution_count": 13,
   "metadata": {},
   "outputs": [
    {
     "name": "stdout",
     "output_type": "stream",
     "text": [
      "              precision    recall  f1-score   support\n",
      "\n",
      "           0       0.57      0.80      0.67         5\n",
      "           1       0.67      0.40      0.50         5\n",
      "\n",
      "    accuracy                           0.60        10\n",
      "   macro avg       0.62      0.60      0.58        10\n",
      "weighted avg       0.62      0.60      0.58        10\n",
      "\n"
     ]
    }
   ],
   "source": [
    "# print(classification_report(y_test,naive_bayes_pred))"
   ]
  },
  {
   "cell_type": "markdown",
   "metadata": {},
   "source": []
  },
  {
   "cell_type": "code",
   "execution_count": 14,
   "metadata": {},
   "outputs": [],
   "source": [
    "# model_k_neighbors_classifier=KNeighborsClassifier(2,weights='distance',algorithm='auto')\n",
    "# model_k_neighbors_classifier.fit(X_train,y_train)\n",
    "# k_neighbors_classifier_pred=model_k_neighbors_classifier.predict(X_test)"
   ]
  },
  {
   "cell_type": "code",
   "execution_count": 15,
   "metadata": {},
   "outputs": [
    {
     "name": "stdout",
     "output_type": "stream",
     "text": [
      "              precision    recall  f1-score   support\n",
      "\n",
      "           0       0.56      1.00      0.71         5\n",
      "           1       1.00      0.20      0.33         5\n",
      "\n",
      "    accuracy                           0.60        10\n",
      "   macro avg       0.78      0.60      0.52        10\n",
      "weighted avg       0.78      0.60      0.52        10\n",
      "\n"
     ]
    }
   ],
   "source": [
    "# print(classification_report(y_test,k_neighbors_classifier_pred,zero_division=0))"
   ]
  },
  {
   "cell_type": "code",
   "execution_count": 16,
   "metadata": {},
   "outputs": [],
   "source": [
    "# model_random_forest=RandomForestClassifier(n_estimators=500)\n",
    "# model_random_forest.fit(X_train,y_train)\n",
    "# random_forest_pred=model_random_forest.predict(X_test)"
   ]
  },
  {
   "cell_type": "code",
   "execution_count": 17,
   "metadata": {},
   "outputs": [
    {
     "name": "stdout",
     "output_type": "stream",
     "text": [
      "              precision    recall  f1-score   support\n",
      "\n",
      "           0       0.80      0.80      0.80         5\n",
      "           1       0.80      0.80      0.80         5\n",
      "\n",
      "    accuracy                           0.80        10\n",
      "   macro avg       0.80      0.80      0.80        10\n",
      "weighted avg       0.80      0.80      0.80        10\n",
      "\n"
     ]
    }
   ],
   "source": [
    "# print(classification_report(y_test,random_forest_pred))"
   ]
  },
  {
   "cell_type": "code",
   "execution_count": 18,
   "metadata": {},
   "outputs": [],
   "source": [
    "# df.info()"
   ]
  },
  {
   "cell_type": "code",
   "execution_count": 23,
   "metadata": {},
   "outputs": [],
   "source": [
    "# X_test['category']=y_test\n",
    "# def print_diffs(pred):\n",
    "#     X_test['pred']=pred\n",
    "#     res=list(X_test.loc[X_test['category']!=X_test['pred']].index)\n",
    "#     for num in res:\n",
    "#         if num<=48:\n",
    "#             print(f\"{num} - FN\")\n",
    "#         else:\n",
    "#             print(f\"{num} - FP\")\n",
    "#     X_test.drop(columns=[\"pred\"],inplace=True)"
   ]
  },
  {
   "cell_type": "code",
   "execution_count": 24,
   "metadata": {},
   "outputs": [
    {
     "name": "stdout",
     "output_type": "stream",
     "text": [
      "logistic regression classified wrong: \n",
      "9 - FN\n",
      "90 - FP\n",
      "\n",
      "naive bayes classified wrong: \n",
      "32 - FN\n",
      "14 - FN\n",
      "84 - FP\n",
      "9 - FN\n",
      "\n",
      "k neighbors classified wrong: \n",
      "32 - FN\n",
      "14 - FN\n",
      "9 - FN\n",
      "27 - FN\n",
      "\n",
      "random forest classified wrong: \n",
      "9 - FN\n",
      "90 - FP\n"
     ]
    }
   ],
   "source": [
    "# print(\"logistic regression classified wrong: \")\n",
    "# print_diffs(logistic_regression_pred)\n",
    "# print(\"\\nnaive bayes classified wrong: \")\n",
    "# print_diffs(naive_bayes_pred)\n",
    "# print(\"\\nk neighbors classified wrong: \")\n",
    "# print_diffs(k_neighbors_classifier_pred)\n",
    "# print(\"\\nrandom forest classified wrong: \")\n",
    "# print_diffs(random_forest_pred)"
   ]
  },
  {
   "cell_type": "markdown",
   "metadata": {},
   "source": [
    "מאמר מספר 9\n",
    "יוצא בכל המסווגים FP\n",
    "מאמרים 14,32,90 יוצאים fp ב2 מסווגים שונים."
   ]
  }
 ],
 "metadata": {
  "interpreter": {
   "hash": "9b025add082eba9f465bb7a51d61eaafbf35b7a16776511b49a7c1679204e3ae"
  },
  "kernelspec": {
   "display_name": "Python 3.8.5 64-bit ('base': conda)",
   "language": "python",
   "name": "python3"
  },
  "language_info": {
   "codemirror_mode": {
    "name": "ipython",
    "version": 3
   },
   "file_extension": ".py",
   "mimetype": "text/x-python",
   "name": "python",
   "nbconvert_exporter": "python",
   "pygments_lexer": "ipython3",
   "version": "3.9.7"
  },
  "orig_nbformat": 4
 },
 "nbformat": 4,
 "nbformat_minor": 2
}
