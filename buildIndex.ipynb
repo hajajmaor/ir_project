{
 "cells": [
  {
   "cell_type": "code",
   "execution_count": null,
   "metadata": {},
   "outputs": [],
   "source": [
    "from os import listdir\n",
    "from pickle import dump as save_to_pickle_file\n",
    "from typing import Dict, List\n",
    "# from pandas import DataFrame\n",
    "from methods import do_case_folding, INDEX_DIR, ARTICLES_DIR,remove_stop_words, preform_stemming_using_porter\n",
    "from copy import deepcopy\n"
   ]
  },
  {
   "cell_type": "code",
   "execution_count": null,
   "metadata": {},
   "outputs": [],
   "source": [
    "\n",
    "def create_language_model_from_collection(collection: List[str]) -> Dict[str, float]:\n",
    "    \"\"\"\n",
    "        generate language model from collection\n",
    "\n",
    "    Args:\n",
    "        collection (List[str]): [description]\n",
    "\n",
    "    Returns:\n",
    "        Dict[str, float]: [description]\n",
    "    \"\"\"\n",
    "    language_model = {}\n",
    "    counter = 0\n",
    "\n",
    "    for doc in collection:\n",
    "        splitted=doc.split()\n",
    "        counter += len(splitted)\n",
    "        for word in splitted:\n",
    "            if word not in language_model:\n",
    "                language_model[word] = 1\n",
    "            else:\n",
    "                language_model[word] += 1\n",
    "    # print(f\"how much words in the collection: {sum(language_model.values())}\")\n",
    "\n",
    "    # calculate probability of a word in the collection\n",
    "    for word in language_model:\n",
    "        language_model[word] = round(language_model[word] / counter, 7)\n",
    "        # language_model[word] = language_model[word] / counter\n",
    "        # language_model[word] / counter\n",
    "    # print(f\"amount of words in collection:{counter}\")\n",
    "    return language_model\n"
   ]
  },
  {
   "cell_type": "code",
   "execution_count": null,
   "metadata": {},
   "outputs": [],
   "source": [
    "res: Dict[str, float] = None\n",
    "articels = listdir(ARTICLES_DIR)\n"
   ]
  },
  {
   "cell_type": "code",
   "execution_count": null,
   "metadata": {},
   "outputs": [],
   "source": [
    "collection = []\n",
    "for art in articels:\n",
    "    with open(f\"{ARTICLES_DIR}/{art}\", \"r\") as file:\n",
    "        collection.append(file.read())\n"
   ]
  },
  {
   "cell_type": "code",
   "execution_count": null,
   "metadata": {},
   "outputs": [],
   "source": [
    "len(collection)"
   ]
  },
  {
   "cell_type": "code",
   "execution_count": null,
   "metadata": {},
   "outputs": [],
   "source": [
    "    # \"\"\"\n",
    "    # 1. create language model from the entire collection\n",
    "    # 2. remove stop words and create new language model\n",
    "    # 3. preform case folding and create new language model\n",
    "    # 4. preform stemming and create new language model\n",
    "    # \"\"\""
   ]
  },
  {
   "cell_type": "code",
   "execution_count": null,
   "metadata": {},
   "outputs": [],
   "source": [
    "# language_model for the entire collection, with all the words\n",
    "basic_language_model=create_language_model_from_collection(deepcopy(collection))"
   ]
  },
  {
   "cell_type": "code",
   "execution_count": null,
   "metadata": {},
   "outputs": [],
   "source": [
    "len(collection)"
   ]
  },
  {
   "cell_type": "code",
   "execution_count": null,
   "metadata": {},
   "outputs": [],
   "source": [
    "def remove_stop_words_from_collection(collection: List[str]) -> List[str]:\n",
    "    \"\"\"\n",
    "    remove stop words from the collection\n",
    "    \"\"\"\n",
    "    return [remove_stop_words(doc) for doc in collection]\n"
   ]
  },
  {
   "cell_type": "code",
   "execution_count": null,
   "metadata": {},
   "outputs": [],
   "source": [
    "collection_without_stop_words = remove_stop_words_from_collection(deepcopy(collection))\n",
    "language_model_without_stop_words = create_language_model_from_collection(collection_without_stop_words)"
   ]
  },
  {
   "cell_type": "code",
   "execution_count": null,
   "metadata": {},
   "outputs": [],
   "source": [
    "def preform_case_foldings(collection: List[str]) -> List[str]:\n",
    "    \"\"\"\n",
    "    preform case folding on the collection\n",
    "    \"\"\"\n",
    "    return [do_case_folding (doc) for doc in collection]"
   ]
  },
  {
   "cell_type": "code",
   "execution_count": null,
   "metadata": {},
   "outputs": [],
   "source": [
    "collection_case_folded = preform_case_foldings(deepcopy(language_model_without_stop_words))\n",
    "language_model_case_folded = create_language_model_from_collection(collection_case_folded)"
   ]
  },
  {
   "cell_type": "code",
   "execution_count": null,
   "metadata": {},
   "outputs": [],
   "source": [
    "#stemming stage\n",
    "def preform_stemming(collection: List[str]) -> List[str]:\n",
    "    return [preform_stemming_using_porter(doc) for doc in collection]"
   ]
  },
  {
   "cell_type": "code",
   "execution_count": null,
   "metadata": {},
   "outputs": [],
   "source": [
    "collection_stemmed = preform_stemming(deepcopy(collection_case_folded))\n",
    "language_model_stemmed = create_language_model_from_collection(collection_stemmed)"
   ]
  },
  {
   "cell_type": "code",
   "execution_count": null,
   "metadata": {},
   "outputs": [],
   "source": [
    "print(len(basic_language_model),len(language_model_without_stop_words),len(language_model_case_folded),len(language_model_stemmed))"
   ]
  },
  {
   "cell_type": "code",
   "execution_count": null,
   "metadata": {},
   "outputs": [],
   "source": [
    "f\"change after case folding: {len(language_model_without_stop_words)/len(language_model_case_folded)-1}\""
   ]
  },
  {
   "cell_type": "code",
   "execution_count": null,
   "metadata": {},
   "outputs": [],
   "source": [
    "len(language_model_stemmed)/len(basic_language_model)"
   ]
  },
  {
   "cell_type": "code",
   "execution_count": null,
   "metadata": {},
   "outputs": [],
   "source": [
    "def probability_of_word_from_the_language_models(word: str):\n",
    "    \"\"\"\n",
    "    get probability of a word from the language models\n",
    "    \"\"\"\n",
    "    if word in basic_language_model:\n",
    "        print(f\"word: {word} is in basic language model and probability is: {basic_language_model[word]:.7f}\")\n",
    "    if word in language_model_without_stop_words:\n",
    "        print(f\"word: {word} is in language model without stop words and probability is: {language_model_without_stop_words[word]:.7f}\")\n",
    "    word_case_folded = do_case_folding(word)\n",
    "    if word_case_folded in language_model_case_folded:\n",
    "        print(f\"word: {word_case_folded} is in language model case folded and probability is: {language_model_case_folded[word_case_folded]:.7f}\")\n",
    "    word_after_stemming = preform_stemming_using_porter(word_case_folded)\n",
    "    if word_after_stemming in language_model_stemmed:\n",
    "        print(f\"word: {word_after_stemming} is in language model stemmed and probability is: {language_model_stemmed[word_after_stemming]:.7f}\")\n",
    "    "
   ]
  },
  {
   "cell_type": "code",
   "execution_count": null,
   "metadata": {},
   "outputs": [],
   "source": [
    "probability_of_word_from_the_language_models(\"student\")"
   ]
  },
  {
   "cell_type": "code",
   "execution_count": null,
   "metadata": {},
   "outputs": [],
   "source": [
    "probability_of_word_from_the_language_models(\"a\")"
   ]
  },
  {
   "cell_type": "code",
   "execution_count": null,
   "metadata": {},
   "outputs": [],
   "source": [
    "probability_of_word_from_the_language_models(\"are\")"
   ]
  },
  {
   "cell_type": "code",
   "execution_count": null,
   "metadata": {},
   "outputs": [],
   "source": []
  }
 ],
 "metadata": {
  "interpreter": {
   "hash": "9b025add082eba9f465bb7a51d61eaafbf35b7a16776511b49a7c1679204e3ae"
  },
  "kernelspec": {
   "display_name": "Python 3.8.5 64-bit ('base': conda)",
   "language": "python",
   "name": "python3"
  },
  "language_info": {
   "codemirror_mode": {
    "name": "ipython",
    "version": 3
   },
   "file_extension": ".py",
   "mimetype": "text/x-python",
   "name": "python",
   "nbconvert_exporter": "python",
   "pygments_lexer": "ipython3",
   "version": "3.8.5"
  },
  "orig_nbformat": 4
 },
 "nbformat": 4,
 "nbformat_minor": 2
}
