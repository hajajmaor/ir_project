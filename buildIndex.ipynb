{
 "cells": [
  {
   "cell_type": "code",
   "execution_count": 37,
   "metadata": {},
   "outputs": [],
   "source": [
    "from os import listdir\n",
    "from pickle import dump as save_to_pickle_file\n",
    "from typing import Dict, List\n",
    "from methods import do_case_folding, ARTICLES_DIR,remove_stop_words, preform_stemming_using_porter,stop_words\n"
   ]
  },
  {
   "cell_type": "code",
   "execution_count": 2,
   "metadata": {},
   "outputs": [],
   "source": [
    "\n",
    "def create_language_model_from_collection(collection: List[str]) -> Dict[str, float]:\n",
    "    \"\"\"\n",
    "        generate language model from collection\n",
    "\n",
    "    Args:\n",
    "        collection (List[str]): [description]\n",
    "\n",
    "    Returns:\n",
    "        Dict[str, float]: [description]\n",
    "    \"\"\"\n",
    "    language_model = {}\n",
    "    counter = 0\n",
    "\n",
    "    for doc in collection:\n",
    "        splitted=doc.split()\n",
    "        counter += len(splitted)\n",
    "        for word in splitted:\n",
    "            if word not in language_model:\n",
    "                language_model[word] = 1\n",
    "            else:\n",
    "                language_model[word] += 1\n",
    "    # print(f\"how much words in the collection: {sum(language_model.values())}\")\n",
    "\n",
    "    # calculate probability of a word in the collection\n",
    "    for word in language_model:\n",
    "        language_model[word] = round(language_model[word] / counter, 7)\n",
    "        # language_model[word] = language_model[word] / counter\n",
    "        # language_model[word] / counter\n",
    "    print(f\"amount of words in collection:{counter}\")\n",
    "    return language_model\n"
   ]
  },
  {
   "cell_type": "code",
   "execution_count": 3,
   "metadata": {},
   "outputs": [],
   "source": [
    "res: Dict[str, float] = None\n",
    "articels = listdir(ARTICLES_DIR)\n"
   ]
  },
  {
   "cell_type": "code",
   "execution_count": 4,
   "metadata": {},
   "outputs": [],
   "source": [
    "collection = []\n",
    "for art in articels:\n",
    "    with open(f\"{ARTICLES_DIR}/{art}\", \"r\") as file:\n",
    "        collection.append(file.read())\n"
   ]
  },
  {
   "cell_type": "code",
   "execution_count": 5,
   "metadata": {},
   "outputs": [
    {
     "data": {
      "text/plain": [
       "48"
      ]
     },
     "execution_count": 5,
     "metadata": {},
     "output_type": "execute_result"
    }
   ],
   "source": [
    "len(collection)"
   ]
  },
  {
   "cell_type": "code",
   "execution_count": null,
   "metadata": {},
   "outputs": [],
   "source": []
  },
  {
   "cell_type": "code",
   "execution_count": 7,
   "metadata": {},
   "outputs": [
    {
     "name": "stdout",
     "output_type": "stream",
     "text": [
      "amount of words in collection:351168\n"
     ]
    }
   ],
   "source": [
    "# language_model for the entire collection, with all the words\n",
    "basic_language_model=create_language_model_from_collection(collection)"
   ]
  },
  {
   "cell_type": "code",
   "execution_count": 9,
   "metadata": {},
   "outputs": [],
   "source": [
    "def remove_stop_words_from_collection(collection: List[str]) -> List[str]:\n",
    "    \"\"\"\n",
    "    remove stop words from the collection\n",
    "    \"\"\"\n",
    "    return [remove_stop_words(doc) for doc in collection]\n"
   ]
  },
  {
   "cell_type": "code",
   "execution_count": 10,
   "metadata": {},
   "outputs": [
    {
     "name": "stdout",
     "output_type": "stream",
     "text": [
      "amount of words in collection:235258\n"
     ]
    }
   ],
   "source": [
    "collection_without_stop_words = remove_stop_words_from_collection(collection)\n",
    "language_model_without_stop_words = create_language_model_from_collection(collection_without_stop_words)"
   ]
  },
  {
   "cell_type": "code",
   "execution_count": 11,
   "metadata": {},
   "outputs": [],
   "source": [
    "def preform_case_foldings(collection: List[str]) -> List[str]:\n",
    "    \"\"\"\n",
    "    preform case folding on the collection\n",
    "    \"\"\"\n",
    "    return [do_case_folding (doc) for doc in collection]"
   ]
  },
  {
   "cell_type": "code",
   "execution_count": 12,
   "metadata": {},
   "outputs": [
    {
     "name": "stdout",
     "output_type": "stream",
     "text": [
      "amount of words in collection:45989\n"
     ]
    }
   ],
   "source": [
    "collection_case_folded = preform_case_foldings(language_model_without_stop_words)\n",
    "language_model_case_folded = create_language_model_from_collection(collection_case_folded)"
   ]
  },
  {
   "cell_type": "code",
   "execution_count": 13,
   "metadata": {},
   "outputs": [],
   "source": [
    "#stemming stage\n",
    "def preform_stemming(collection: List[str]) -> List[str]:\n",
    "    return [preform_stemming_using_porter(doc) for doc in collection]"
   ]
  },
  {
   "cell_type": "code",
   "execution_count": 14,
   "metadata": {},
   "outputs": [
    {
     "name": "stdout",
     "output_type": "stream",
     "text": [
      "amount of words in collection:45989\n"
     ]
    }
   ],
   "source": [
    "collection_stemmed = preform_stemming(collection_case_folded)\n",
    "language_model_stemmed = create_language_model_from_collection(collection_stemmed)"
   ]
  },
  {
   "cell_type": "code",
   "execution_count": 15,
   "metadata": {},
   "outputs": [
    {
     "name": "stdout",
     "output_type": "stream",
     "text": [
      "41121 41021 31166 26902\n"
     ]
    }
   ],
   "source": [
    "print(len(basic_language_model),len(language_model_without_stop_words),len(language_model_case_folded),len(language_model_stemmed))"
   ]
  },
  {
   "cell_type": "code",
   "execution_count": 19,
   "metadata": {},
   "outputs": [
    {
     "name": "stdout",
     "output_type": "stream",
     "text": [
      "amount of words in collection:43482\n"
     ]
    }
   ],
   "source": [
    "collection_without_stop_words_after_all_stages = remove_stop_words_from_collection(collection_stemmed)\n",
    "language_model_without_stop_words_after_all_stages = create_language_model_from_collection(collection_without_stop_words_after_all_stages)"
   ]
  },
  {
   "cell_type": "code",
   "execution_count": 20,
   "metadata": {},
   "outputs": [
    {
     "name": "stdout",
     "output_type": "stream",
     "text": [
      "41121 41021 31166 26902 26544\n"
     ]
    }
   ],
   "source": [
    "# print(len(basic_language_model),len(language_model_without_stop_words),len(language_model_case_folded),len(language_model_stemmed),len(language_model_without_stop_words_after_all_stages))"
   ]
  },
  {
   "cell_type": "code",
   "execution_count": 21,
   "metadata": {},
   "outputs": [],
   "source": [
    "# amount of words in each collection\n"
   ]
  },
  {
   "cell_type": "code",
   "execution_count": 22,
   "metadata": {},
   "outputs": [],
   "source": [
    "def probability_of_word_from_the_language_models(word: str):\n",
    "    \"\"\"\n",
    "    get probability of a word from the language models\n",
    "    \"\"\"\n",
    "    prob:Dict[dict,float] = {}\n",
    "    if word in basic_language_model:\n",
    "        print(f\"word: {word} is in basic language model and probability is: {basic_language_model[word]:.7f}\")\n",
    "        prob[\"basic_language_model\"] = basic_language_model[word]\n",
    "        \n",
    "    if word in language_model_without_stop_words:\n",
    "        print(f\"word: {word} is in language model without stop words and probability is: {language_model_without_stop_words[word]:.7f}\")\n",
    "        prob[\"language_model_without_stop_words\"] = language_model_without_stop_words[word]\n",
    "        \n",
    "    word_case_folded = do_case_folding(word).strip()\n",
    "    if word_case_folded in language_model_case_folded:\n",
    "        print(f\"word: {word_case_folded} is in language model case folded and probability is: {language_model_case_folded[word_case_folded]:.7f}\")\n",
    "        prob[\"language_model_case_folded\"] = language_model_case_folded[word_case_folded]\n",
    "        \n",
    "    word_after_stemming = preform_stemming_using_porter(word_case_folded)\n",
    "    if word_after_stemming in language_model_stemmed:\n",
    "        print(f\"word: {word_after_stemming} is in language model stemmed and probability is: {language_model_stemmed[word_after_stemming]:.7f}\")\n",
    "        prob[\"language_model_stemmed\"] = language_model_stemmed[word_after_stemming]\n",
    "        \n",
    "    if word_after_stemming in language_model_without_stop_words_after_all_stages:\n",
    "        print(f\"word: {word_after_stemming} is in language model stemmed and removed all stop words again and probability is: {language_model_without_stop_words_after_all_stages[word_after_stemming]:.7f}\")\n",
    "        prob[\"language_model_without_stop_words_after_all_stages\"] = language_model_without_stop_words_after_all_stages[word_after_stemming]\n",
    "    return prob"
   ]
  },
  {
   "cell_type": "code",
   "execution_count": 23,
   "metadata": {},
   "outputs": [
    {
     "name": "stdout",
     "output_type": "stream",
     "text": [
      "word ='Museum'\n",
      "word: Museum is in basic language model and probability is: 0.0019222\n",
      "word: Museum is in language model without stop words and probability is: 0.0028692\n",
      "word: museum is in language model case folded and probability is: 0.0003697\n",
      "word: museum is in language model stemmed and probability is: 0.0005871\n",
      "word: museum is in language model stemmed and removed all stop words again and probability is: 0.0006209\n",
      "\n",
      "\n",
      "word ='visitors’'\n",
      "word: visitors’ is in basic language model and probability is: 0.0019364\n",
      "word: visitors’ is in language model without stop words and probability is: 0.0028904\n",
      "word: visitors is in language model case folded and probability is: 0.0004566\n",
      "word: visitor is in language model stemmed and probability is: 0.0007828\n",
      "word: visitor is in language model stemmed and removed all stop words again and probability is: 0.0008279\n",
      "\n",
      "\n",
      "word ='behavior'\n",
      "word: behavior is in basic language model and probability is: 0.0018510\n",
      "word: behavior is in language model without stop words and probability is: 0.0027629\n",
      "word: behavior is in language model case folded and probability is: 0.0002392\n",
      "word: behavior is in language model stemmed and probability is: 0.0004131\n",
      "word: behavior is in language model stemmed and removed all stop words again and probability is: 0.0004370\n",
      "\n",
      "\n"
     ]
    }
   ],
   "source": [
    "query=\"Museum visitors’ behavior\"\n",
    "res={}\n",
    "for word in query.split():\n",
    "    print(f\"{word =}\")\n",
    "    res[word]= probability_of_word_from_the_language_models(word)\n",
    "    print(\"\\n\")"
   ]
  },
  {
   "cell_type": "code",
   "execution_count": 24,
   "metadata": {},
   "outputs": [
    {
     "name": "stdout",
     "output_type": "stream",
     "text": [
      "probability of the query 'Museum visitors’ behavior' in the language model 'basic_language_model' is 0.0000000069\n",
      "probability of the query 'Museum visitors’ behavior' in the language model 'language_model_without_stop_words' is 0.0000000229\n",
      "probability of the query 'Museum visitors’ behavior' in the language model 'language_model_case_folded' is 0.0000000000\n",
      "probability of the query 'Museum visitors’ behavior' in the language model 'language_model_stemmed' is 0.0000000002\n",
      "probability of the query 'Museum visitors’ behavior' in the language model 'language_model_without_stop_words_after_all_stages' is 0.0000000002\n"
     ]
    }
   ],
   "source": [
    "probs=[]\n",
    "for lm in list(res['Museum'].keys()):\n",
    "    prob=1\n",
    "    for k in res:\n",
    "        prob*=res[k][lm]\n",
    "            \n",
    "    print(f\"probability of the query '{query}' in the language model '{lm}' is {prob:.10f}\")\n",
    "    probs.append(prob)"
   ]
  },
  {
   "cell_type": "code",
   "execution_count": 25,
   "metadata": {},
   "outputs": [],
   "source": [
    "from matplotlib import pyplot as plt\n"
   ]
  },
  {
   "cell_type": "code",
   "execution_count": 26,
   "metadata": {},
   "outputs": [
    {
     "data": {
      "text/plain": [
       "[<matplotlib.lines.Line2D at 0x7fa9b8dbb3d0>]"
      ]
     },
     "execution_count": 26,
     "metadata": {},
     "output_type": "execute_result"
    },
    {
     "data": {
      "image/png": "[encoded data removed]",
      "text/plain": [
       "<Figure size 1440x360 with 1 Axes>"
      ]
     },
     "metadata": {
      "needs_background": "light"
     },
     "output_type": "display_data"
    }
   ],
   "source": [
    "plt.figure(figsize=(20,5))\n",
    "plt.plot(list(res['Museum'].keys()),probs)"
   ]
  },
  {
   "cell_type": "code",
   "execution_count": 27,
   "metadata": {},
   "outputs": [],
   "source": [
    "class LanguageModelDetails:\n",
    "    name:str\n",
    "    amount_of_words_in_collection:int\n",
    "    collection:List[str]\n",
    "    lm:Dict[str,float]\n",
    "    \n",
    "    def __init__(self,name:str,collection:List[str],lm:Dict[str,float]):\n",
    "        self.name=name\n",
    "        self.collection=collection\n",
    "        self.lm=lm\n",
    "        self.amount_of_words_in_collection=0\n",
    "        for doc in collection:\n",
    "            self.amount_of_words_in_collection+=len(doc.split())\n",
    "    \n",
    "    def get_lm_size(self):\n",
    "        return len(self.lm)\n",
    "    \n",
    "        "
   ]
  },
  {
   "cell_type": "code",
   "execution_count": 28,
   "metadata": {},
   "outputs": [],
   "source": [
    "#TODO: change the code to use this class"
   ]
  },
  {
   "cell_type": "code",
   "execution_count": 36,
   "metadata": {},
   "outputs": [],
   "source": [
    "basic=LanguageModelDetails(\"basic\",collection,basic_language_model)\n",
    "stop_words_details=LanguageModelDetails(\"stopwords\",collection_without_stop_words,language_model_without_stop_words)\n",
    "case_folded=LanguageModelDetails(\"case_folded\",collection_case_folded,language_model_case_folded)\n",
    "stemmed=LanguageModelDetails(\"stemmed\",collection_stemmed,language_model_stemmed)\n",
    "after_all_stages=LanguageModelDetails(\"after_all_stages\",collection_without_stop_words_after_all_stages,language_model_without_stop_words_after_all_stages)\n",
    "objects=[basic,stop_words,case_folded,stemmed,after_all_stages]"
   ]
  },
  {
   "cell_type": "code",
   "execution_count": 30,
   "metadata": {},
   "outputs": [
    {
     "name": "stdout",
     "output_type": "stream",
     "text": [
      "basic has 41121 words in the language model, and 351168 words in the collection\n",
      "\n",
      "stopwords has 41021 words in the language model, and 235258 words in the collection\n",
      "\n",
      "case_folded has 31166 words in the language model, and 45989 words in the collection\n",
      "\n",
      "stemmed has 26902 words in the language model, and 45989 words in the collection\n",
      "\n",
      "after_all_stages has 26544 words in the language model, and 43482 words in the collection\n",
      "\n"
     ]
    }
   ],
   "source": [
    "for obj in objects:\n",
    "    print(f\"{obj.name} has {obj.get_lm_size()} words in the language model, and {obj.amount_of_words_in_collection} words in the collection\\n\")"
   ]
  },
  {
   "cell_type": "code",
   "execution_count": 31,
   "metadata": {},
   "outputs": [],
   "source": [
    "import pandas as pd\n"
   ]
  },
  {
   "cell_type": "code",
   "execution_count": 32,
   "metadata": {},
   "outputs": [],
   "source": [
    "data={}\n",
    "for obj in objects:\n",
    "    data[obj.name]=[obj.get_lm_size(),obj.amount_of_words_in_collection]\n",
    "df=pd.DataFrame.from_dict(data,columns=[\"Dictionary size\",\"amount_of_words_in_collection\"],orient=\"index\")\n"
   ]
  },
  {
   "cell_type": "code",
   "execution_count": 33,
   "metadata": {},
   "outputs": [
    {
     "data": {
      "text/html": [
       "<div>\n",
       "<style scoped>\n",
       "    .dataframe tbody tr th:only-of-type {\n",
       "        vertical-align: middle;\n",
       "    }\n",
       "\n",
       "    .dataframe tbody tr th {\n",
       "        vertical-align: top;\n",
       "    }\n",
       "\n",
       "    .dataframe thead th {\n",
       "        text-align: right;\n",
       "    }\n",
       "</style>\n",
       "<table border=\"1\" class=\"dataframe\">\n",
       "  <thead>\n",
       "    <tr style=\"text-align: right;\">\n",
       "      <th></th>\n",
       "      <th>Dictionary size</th>\n",
       "      <th>amount_of_words_in_collection</th>\n",
       "    </tr>\n",
       "  </thead>\n",
       "  <tbody>\n",
       "    <tr>\n",
       "      <th>basic</th>\n",
       "      <td>41121</td>\n",
       "      <td>351168</td>\n",
       "    </tr>\n",
       "    <tr>\n",
       "      <th>stopwords</th>\n",
       "      <td>41021</td>\n",
       "      <td>235258</td>\n",
       "    </tr>\n",
       "    <tr>\n",
       "      <th>case_folded</th>\n",
       "      <td>31166</td>\n",
       "      <td>45989</td>\n",
       "    </tr>\n",
       "    <tr>\n",
       "      <th>stemmed</th>\n",
       "      <td>26902</td>\n",
       "      <td>45989</td>\n",
       "    </tr>\n",
       "    <tr>\n",
       "      <th>after_all_stages</th>\n",
       "      <td>26544</td>\n",
       "      <td>43482</td>\n",
       "    </tr>\n",
       "  </tbody>\n",
       "</table>\n",
       "</div>"
      ],
      "text/plain": [
       "                  Dictionary size  amount_of_words_in_collection\n",
       "basic                       41121                         351168\n",
       "stopwords                   41021                         235258\n",
       "case_folded                 31166                          45989\n",
       "stemmed                     26902                          45989\n",
       "after_all_stages            26544                          43482"
      ]
     },
     "execution_count": 33,
     "metadata": {},
     "output_type": "execute_result"
    }
   ],
   "source": [
    "df"
   ]
  },
  {
   "cell_type": "code",
   "execution_count": 38,
   "metadata": {},
   "outputs": [
    {
     "data": {
      "text/plain": [
       "137163"
      ]
     },
     "execution_count": 38,
     "metadata": {},
     "output_type": "execute_result"
    }
   ],
   "source": [
    "# כמה מילות עצירה קיימת במאגר המקורי\n",
    "counter=0\n",
    "for doc in collection:\n",
    "    for word in doc.split():\n",
    "        if word in stop_words:\n",
    "            counter+=1\n",
    "counter"
   ]
  },
  {
   "cell_type": "code",
   "execution_count": null,
   "metadata": {},
   "outputs": [],
   "source": []
  }
 ],
 "metadata": {
  "interpreter": {
   "hash": "9b025add082eba9f465bb7a51d61eaafbf35b7a16776511b49a7c1679204e3ae"
  },
  "kernelspec": {
   "display_name": "Python 3.8.5 64-bit ('base': conda)",
   "language": "python",
   "name": "python3"
  },
  "language_info": {
   "codemirror_mode": {
    "name": "ipython",
    "version": 3
   },
   "file_extension": ".py",
   "mimetype": "text/x-python",
   "name": "python",
   "nbconvert_exporter": "python",
   "pygments_lexer": "ipython3",
   "version": "3.8.5"
  },
  "orig_nbformat": 4
 },
 "nbformat": 4,
 "nbformat_minor": 2
}
