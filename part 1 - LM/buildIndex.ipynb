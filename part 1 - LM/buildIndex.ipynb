{
 "cells": [
  {
   "cell_type": "code",
   "execution_count": 1,
   "metadata": {},
   "outputs": [],
   "source": [
    "import sys\n",
    "sys.path.append('../')"
   ]
  },
  {
   "cell_type": "code",
   "execution_count": 2,
   "metadata": {},
   "outputs": [],
   "source": [
    "from os import listdir\n",
    "from pickle import dump as save_to_pickle_file\n",
    "from typing import Dict, List\n",
    "from methods import do_case_folding, ARTICLES_DIR,remove_stop_words, preform_stemming_using_porter,stop_words\n",
    "import pandas as pd\n"
   ]
  },
  {
   "cell_type": "code",
   "execution_count": 3,
   "metadata": {},
   "outputs": [],
   "source": [
    "\n",
    "def create_language_model_from_collection(collection: List[str]) -> Dict[str, float]:\n",
    "    \"\"\"\n",
    "        generate language model from collection\n",
    "\n",
    "    Args:\n",
    "        collection (List[str]): [description]\n",
    "\n",
    "    Returns:\n",
    "        Dict[str, float]: [description]\n",
    "    \"\"\"\n",
    "    language_model = {}\n",
    "    counter = 0\n",
    "\n",
    "    for doc in collection:\n",
    "        splitted=doc.split()\n",
    "        counter += len(splitted)\n",
    "        for word in splitted:\n",
    "            if word not in language_model:\n",
    "                language_model[word] = 1\n",
    "            else:\n",
    "                language_model[word] += 1\n",
    "    # print(f\"how much words in the collection: {sum(language_model.values())}\")\n",
    "\n",
    "    # calculate probability of a word in the collection\n",
    "    for word in language_model:\n",
    "        language_model[word] = round(language_model[word] / counter, 7)\n",
    "        # language_model[word] = language_model[word] / counter\n",
    "        # language_model[word] / counter\n",
    "    print(f\"amount of words in collection:{counter}\")\n",
    "    return language_model\n"
   ]
  },
  {
   "cell_type": "code",
   "execution_count": 4,
   "metadata": {},
   "outputs": [],
   "source": [
    "res: Dict[str, float] = None\n",
    "articels = listdir(ARTICLES_DIR)\n"
   ]
  },
  {
   "cell_type": "code",
   "execution_count": 5,
   "metadata": {},
   "outputs": [
    {
     "name": "stdout",
     "output_type": "stream",
     "text": [
      "error in .DS_Store\n",
      "error in other groups\n"
     ]
    }
   ],
   "source": [
    "collection = []\n",
    "for art in articels:\n",
    "    try:\n",
    "        with open(f\"{ARTICLES_DIR}/{art}\", \"r\") as file:\n",
    "            collection.append(file.read())\n",
    "    except:\n",
    "        print(f\"error in {art}\")\n"
   ]
  },
  {
   "cell_type": "code",
   "execution_count": 6,
   "metadata": {},
   "outputs": [
    {
     "data": {
      "text/plain": [
       "48"
      ]
     },
     "execution_count": 6,
     "metadata": {},
     "output_type": "execute_result"
    }
   ],
   "source": [
    "len(collection)"
   ]
  },
  {
   "cell_type": "code",
   "execution_count": null,
   "metadata": {},
   "outputs": [],
   "source": []
  },
  {
   "cell_type": "code",
   "execution_count": 7,
   "metadata": {},
   "outputs": [
    {
     "name": "stdout",
     "output_type": "stream",
     "text": [
      "amount of words in collection:351168\n"
     ]
    }
   ],
   "source": [
    "# language_model for the entire collection, with all the words\n",
    "basic_language_model=create_language_model_from_collection(collection)"
   ]
  },
  {
   "cell_type": "code",
   "execution_count": 12,
   "metadata": {},
   "outputs": [],
   "source": [
    "df=pd.DataFrame.from_dict(basic_language_model,orient='index')\n",
    "df.reset_index(inplace=True)"
   ]
  },
  {
   "cell_type": "code",
   "execution_count": 14,
   "metadata": {},
   "outputs": [
    {
     "data": {
      "text/html": [
       "<div>\n",
       "<style scoped>\n",
       "    .dataframe tbody tr th:only-of-type {\n",
       "        vertical-align: middle;\n",
       "    }\n",
       "\n",
       "    .dataframe tbody tr th {\n",
       "        vertical-align: top;\n",
       "    }\n",
       "\n",
       "    .dataframe thead th {\n",
       "        text-align: right;\n",
       "    }\n",
       "</style>\n",
       "<table border=\"1\" class=\"dataframe\">\n",
       "  <thead>\n",
       "    <tr style=\"text-align: right;\">\n",
       "      <th></th>\n",
       "      <th>word</th>\n",
       "      <th>probability</th>\n",
       "    </tr>\n",
       "  </thead>\n",
       "  <tbody>\n",
       "    <tr>\n",
       "      <th>0</th>\n",
       "      <td>Library</td>\n",
       "      <td>0.000108</td>\n",
       "    </tr>\n",
       "    <tr>\n",
       "      <th>1</th>\n",
       "      <td>&amp;</td>\n",
       "      <td>0.002566</td>\n",
       "    </tr>\n",
       "    <tr>\n",
       "      <th>2</th>\n",
       "      <td>Information</td>\n",
       "      <td>0.000359</td>\n",
       "    </tr>\n",
       "    <tr>\n",
       "      <th>3</th>\n",
       "      <td>Science</td>\n",
       "      <td>0.000441</td>\n",
       "    </tr>\n",
       "    <tr>\n",
       "      <th>4</th>\n",
       "      <td>Research</td>\n",
       "      <td>0.000347</td>\n",
       "    </tr>\n",
       "  </tbody>\n",
       "</table>\n",
       "</div>"
      ],
      "text/plain": [
       "          word  probability\n",
       "0      Library     0.000108\n",
       "1            &     0.002566\n",
       "2  Information     0.000359\n",
       "3      Science     0.000441\n",
       "4     Research     0.000347"
      ]
     },
     "execution_count": 14,
     "metadata": {},
     "output_type": "execute_result"
    }
   ],
   "source": [
    "df.columns=['word','probability']\n",
    "df.head()"
   ]
  },
  {
   "cell_type": "code",
   "execution_count": 17,
   "metadata": {},
   "outputs": [
    {
     "data": {
      "text/html": [
       "<div>\n",
       "<style scoped>\n",
       "    .dataframe tbody tr th:only-of-type {\n",
       "        vertical-align: middle;\n",
       "    }\n",
       "\n",
       "    .dataframe tbody tr th {\n",
       "        vertical-align: top;\n",
       "    }\n",
       "\n",
       "    .dataframe thead th {\n",
       "        text-align: right;\n",
       "    }\n",
       "</style>\n",
       "<table border=\"1\" class=\"dataframe\">\n",
       "  <thead>\n",
       "    <tr style=\"text-align: right;\">\n",
       "      <th></th>\n",
       "      <th>word</th>\n",
       "      <th>probability</th>\n",
       "    </tr>\n",
       "  </thead>\n",
       "  <tbody>\n",
       "    <tr>\n",
       "      <th>79</th>\n",
       "      <td>the</td>\n",
       "      <td>0.051215</td>\n",
       "    </tr>\n",
       "    <tr>\n",
       "      <th>17</th>\n",
       "      <td>of</td>\n",
       "      <td>0.035766</td>\n",
       "    </tr>\n",
       "    <tr>\n",
       "      <th>32</th>\n",
       "      <td>and</td>\n",
       "      <td>0.029812</td>\n",
       "    </tr>\n",
       "    <tr>\n",
       "      <th>68</th>\n",
       "      <td>to</td>\n",
       "      <td>0.022021</td>\n",
       "    </tr>\n",
       "    <tr>\n",
       "      <th>27</th>\n",
       "      <td>a</td>\n",
       "      <td>0.016733</td>\n",
       "    </tr>\n",
       "    <tr>\n",
       "      <th>...</th>\n",
       "      <td>...</td>\n",
       "      <td>...</td>\n",
       "    </tr>\n",
       "    <tr>\n",
       "      <th>32305</th>\n",
       "      <td>centre);</td>\n",
       "      <td>0.000003</td>\n",
       "    </tr>\n",
       "    <tr>\n",
       "      <th>32307</th>\n",
       "      <td>customer,</td>\n",
       "      <td>0.000003</td>\n",
       "    </tr>\n",
       "    <tr>\n",
       "      <th>32308</th>\n",
       "      <td>bearing</td>\n",
       "      <td>0.000003</td>\n",
       "    </tr>\n",
       "    <tr>\n",
       "      <th>32310</th>\n",
       "      <td>pay,</td>\n",
       "      <td>0.000003</td>\n",
       "    </tr>\n",
       "    <tr>\n",
       "      <th>41120</th>\n",
       "      <td>wise</td>\n",
       "      <td>0.000003</td>\n",
       "    </tr>\n",
       "  </tbody>\n",
       "</table>\n",
       "<p>41121 rows × 2 columns</p>\n",
       "</div>"
      ],
      "text/plain": [
       "            word  probability\n",
       "79           the     0.051215\n",
       "17            of     0.035766\n",
       "32           and     0.029812\n",
       "68            to     0.022021\n",
       "27             a     0.016733\n",
       "...          ...          ...\n",
       "32305   centre);     0.000003\n",
       "32307  customer,     0.000003\n",
       "32308    bearing     0.000003\n",
       "32310       pay,     0.000003\n",
       "41120       wise     0.000003\n",
       "\n",
       "[41121 rows x 2 columns]"
      ]
     },
     "execution_count": 17,
     "metadata": {},
     "output_type": "execute_result"
    }
   ],
   "source": [
    "df.sort_values(by='probability',ascending=False)"
   ]
  },
  {
   "cell_type": "code",
   "execution_count": 19,
   "metadata": {},
   "outputs": [
    {
     "data": {
      "text/plain": [
       "79        the\n",
       "17         of\n",
       "32        and\n",
       "68         to\n",
       "27          a\n",
       "99         in\n",
       "65         is\n",
       "127      that\n",
       "78        for\n",
       "70     museum\n",
       "Name: word, dtype: object"
      ]
     },
     "execution_count": 19,
     "metadata": {},
     "output_type": "execute_result"
    }
   ],
   "source": [
    "# after reading the collection, we have the basic language model\n",
    "df.head(10)['word']"
   ]
  },
  {
   "cell_type": "code",
   "execution_count": null,
   "metadata": {},
   "outputs": [],
   "source": []
  },
  {
   "cell_type": "code",
   "execution_count": null,
   "metadata": {},
   "outputs": [],
   "source": []
  },
  {
   "cell_type": "code",
   "execution_count": 20,
   "metadata": {},
   "outputs": [],
   "source": [
    "def remove_stop_words_from_collection(collection: List[str]) -> List[str]:\n",
    "    \"\"\"\n",
    "    remove stop words from the collection\n",
    "    \"\"\"\n",
    "    return [remove_stop_words(doc) for doc in collection]\n"
   ]
  },
  {
   "cell_type": "code",
   "execution_count": 21,
   "metadata": {},
   "outputs": [
    {
     "name": "stdout",
     "output_type": "stream",
     "text": [
      "amount of words in collection:235258\n"
     ]
    }
   ],
   "source": [
    "collection_without_stop_words = remove_stop_words_from_collection(collection)\n",
    "language_model_without_stop_words = create_language_model_from_collection(collection_without_stop_words)"
   ]
  },
  {
   "cell_type": "code",
   "execution_count": 22,
   "metadata": {},
   "outputs": [
    {
     "data": {
      "text/plain": [
       "48"
      ]
     },
     "execution_count": 22,
     "metadata": {},
     "output_type": "execute_result"
    }
   ],
   "source": [
    "# len(collection_without_stop_words)"
   ]
  },
  {
   "cell_type": "code",
   "execution_count": 23,
   "metadata": {},
   "outputs": [
    {
     "data": {
      "text/html": [
       "<div>\n",
       "<style scoped>\n",
       "    .dataframe tbody tr th:only-of-type {\n",
       "        vertical-align: middle;\n",
       "    }\n",
       "\n",
       "    .dataframe tbody tr th {\n",
       "        vertical-align: top;\n",
       "    }\n",
       "\n",
       "    .dataframe thead th {\n",
       "        text-align: right;\n",
       "    }\n",
       "</style>\n",
       "<table border=\"1\" class=\"dataframe\">\n",
       "  <thead>\n",
       "    <tr style=\"text-align: right;\">\n",
       "      <th></th>\n",
       "      <th>word</th>\n",
       "      <th>probability</th>\n",
       "    </tr>\n",
       "  </thead>\n",
       "  <tbody>\n",
       "    <tr>\n",
       "      <th>115</th>\n",
       "      <td>the</td>\n",
       "      <td>0.012021</td>\n",
       "    </tr>\n",
       "    <tr>\n",
       "      <th>56</th>\n",
       "      <td>museum</td>\n",
       "      <td>0.010733</td>\n",
       "    </tr>\n",
       "    <tr>\n",
       "      <th>64</th>\n",
       "      <td>The</td>\n",
       "      <td>0.009517</td>\n",
       "    </tr>\n",
       "    <tr>\n",
       "      <th>16</th>\n",
       "      <td>visitors</td>\n",
       "      <td>0.008527</td>\n",
       "    </tr>\n",
       "    <tr>\n",
       "      <th>114</th>\n",
       "      <td>of</td>\n",
       "      <td>0.007205</td>\n",
       "    </tr>\n",
       "    <tr>\n",
       "      <th>268</th>\n",
       "      <td>and</td>\n",
       "      <td>0.007073</td>\n",
       "    </tr>\n",
       "    <tr>\n",
       "      <th>189</th>\n",
       "      <td>visitor</td>\n",
       "      <td>0.004735</td>\n",
       "    </tr>\n",
       "    <tr>\n",
       "      <th>160</th>\n",
       "      <td>to</td>\n",
       "      <td>0.004268</td>\n",
       "    </tr>\n",
       "    <tr>\n",
       "      <th>208</th>\n",
       "      <td>In</td>\n",
       "      <td>0.004204</td>\n",
       "    </tr>\n",
       "    <tr>\n",
       "      <th>1</th>\n",
       "      <td>&amp;</td>\n",
       "      <td>0.003830</td>\n",
       "    </tr>\n",
       "  </tbody>\n",
       "</table>\n",
       "</div>"
      ],
      "text/plain": [
       "         word  probability\n",
       "115       the     0.012021\n",
       "56     museum     0.010733\n",
       "64        The     0.009517\n",
       "16   visitors     0.008527\n",
       "114        of     0.007205\n",
       "268       and     0.007073\n",
       "189   visitor     0.004735\n",
       "160        to     0.004268\n",
       "208        In     0.004204\n",
       "1           &     0.003830"
      ]
     },
     "execution_count": 23,
     "metadata": {},
     "output_type": "execute_result"
    }
   ],
   "source": [
    "df2=pd.DataFrame.from_dict(language_model_without_stop_words,orient='index').reset_index()\n",
    "df2.columns = ['word', 'probability']\n",
    "df2.sort_values(by='probability', ascending=False).head(10)"
   ]
  },
  {
   "cell_type": "code",
   "execution_count": 24,
   "metadata": {},
   "outputs": [],
   "source": [
    "def preform_case_foldings(collection: List[str]) -> List[str]:\n",
    "    \"\"\"\n",
    "    preform case folding on the collection\n",
    "    \"\"\"\n",
    "    return [do_case_folding (doc) for doc in collection]"
   ]
  },
  {
   "cell_type": "code",
   "execution_count": 25,
   "metadata": {},
   "outputs": [],
   "source": [
    "# language_model_without_stop_words,collection_without_stop_words"
   ]
  },
  {
   "cell_type": "code",
   "execution_count": 26,
   "metadata": {},
   "outputs": [
    {
     "name": "stdout",
     "output_type": "stream",
     "text": [
      "amount of words in collection:244468\n"
     ]
    }
   ],
   "source": [
    "collection_case_folded = preform_case_foldings(collection_without_stop_words)\n",
    "language_model_case_folded = create_language_model_from_collection(collection_case_folded)"
   ]
  },
  {
   "cell_type": "code",
   "execution_count": 28,
   "metadata": {},
   "outputs": [
    {
     "data": {
      "text/html": [
       "<div>\n",
       "<style scoped>\n",
       "    .dataframe tbody tr th:only-of-type {\n",
       "        vertical-align: middle;\n",
       "    }\n",
       "\n",
       "    .dataframe tbody tr th {\n",
       "        vertical-align: top;\n",
       "    }\n",
       "\n",
       "    .dataframe thead th {\n",
       "        text-align: right;\n",
       "    }\n",
       "</style>\n",
       "<table border=\"1\" class=\"dataframe\">\n",
       "  <thead>\n",
       "    <tr style=\"text-align: right;\">\n",
       "      <th></th>\n",
       "      <th>word</th>\n",
       "      <th>probability</th>\n",
       "    </tr>\n",
       "  </thead>\n",
       "  <tbody>\n",
       "    <tr>\n",
       "      <th>63</th>\n",
       "      <td>the</td>\n",
       "      <td>0.020894</td>\n",
       "    </tr>\n",
       "    <tr>\n",
       "      <th>11</th>\n",
       "      <td>museum</td>\n",
       "      <td>0.015114</td>\n",
       "    </tr>\n",
       "    <tr>\n",
       "      <th>16</th>\n",
       "      <td>visitors</td>\n",
       "      <td>0.013274</td>\n",
       "    </tr>\n",
       "    <tr>\n",
       "      <th>23</th>\n",
       "      <td>a</td>\n",
       "      <td>0.007441</td>\n",
       "    </tr>\n",
       "    <tr>\n",
       "      <th>108</th>\n",
       "      <td>of</td>\n",
       "      <td>0.007326</td>\n",
       "    </tr>\n",
       "    <tr>\n",
       "      <th>268</th>\n",
       "      <td>and</td>\n",
       "      <td>0.007302</td>\n",
       "    </tr>\n",
       "    <tr>\n",
       "      <th>163</th>\n",
       "      <td>,</td>\n",
       "      <td>0.007289</td>\n",
       "    </tr>\n",
       "    <tr>\n",
       "      <th>201</th>\n",
       "      <td>in</td>\n",
       "      <td>0.007015</td>\n",
       "    </tr>\n",
       "    <tr>\n",
       "      <th>182</th>\n",
       "      <td>visitor</td>\n",
       "      <td>0.006586</td>\n",
       "    </tr>\n",
       "    <tr>\n",
       "      <th>318</th>\n",
       "      <td>s</td>\n",
       "      <td>0.006357</td>\n",
       "    </tr>\n",
       "  </tbody>\n",
       "</table>\n",
       "</div>"
      ],
      "text/plain": [
       "         word  probability\n",
       "63        the     0.020894\n",
       "11     museum     0.015114\n",
       "16   visitors     0.013274\n",
       "23          a     0.007441\n",
       "108        of     0.007326\n",
       "268       and     0.007302\n",
       "163         ,     0.007289\n",
       "201        in     0.007015\n",
       "182   visitor     0.006586\n",
       "318         s     0.006357"
      ]
     },
     "execution_count": 28,
     "metadata": {},
     "output_type": "execute_result"
    }
   ],
   "source": [
    "df3=pd.DataFrame.from_dict(language_model_case_folded,orient='index').reset_index()\n",
    "df3.columns = ['word', 'probability']\n",
    "df3.sort_values(by='probability', ascending=False).head(10)"
   ]
  },
  {
   "cell_type": "code",
   "execution_count": null,
   "metadata": {},
   "outputs": [],
   "source": [
    "# case_folded=LanguageModelDetails(\"case_folded\",collection_case_folded,language_model_case_folded)"
   ]
  },
  {
   "cell_type": "code",
   "execution_count": null,
   "metadata": {},
   "outputs": [],
   "source": [
    "len(collection_case_folded),len(language_model_case_folded)"
   ]
  },
  {
   "cell_type": "code",
   "execution_count": null,
   "metadata": {},
   "outputs": [],
   "source": [
    "# print(f\"{case_folded.name} has {case_folded.get_lm_size()} words in the language model, and {case_folded.amount_of_words_in_collection} words in the collection\\n\")"
   ]
  },
  {
   "cell_type": "code",
   "execution_count": null,
   "metadata": {},
   "outputs": [],
   "source": []
  },
  {
   "cell_type": "code",
   "execution_count": null,
   "metadata": {},
   "outputs": [],
   "source": []
  },
  {
   "cell_type": "code",
   "execution_count": null,
   "metadata": {},
   "outputs": [],
   "source": []
  },
  {
   "cell_type": "code",
   "execution_count": null,
   "metadata": {},
   "outputs": [],
   "source": [
    "#stemming stage\n",
    "def preform_stemming(collection: List[str]) -> List[str]:\n",
    "    return [preform_stemming_using_porter(doc) for doc in collection]"
   ]
  },
  {
   "cell_type": "code",
   "execution_count": null,
   "metadata": {},
   "outputs": [],
   "source": [
    "collection_stemmed = preform_stemming(collection_case_folded)\n",
    "language_model_stemmed = create_language_model_from_collection(collection_stemmed)"
   ]
  },
  {
   "cell_type": "code",
   "execution_count": null,
   "metadata": {},
   "outputs": [],
   "source": [
    "print(len(basic_language_model),len(language_model_without_stop_words),len(language_model_case_folded),len(language_model_stemmed))"
   ]
  },
  {
   "cell_type": "code",
   "execution_count": null,
   "metadata": {},
   "outputs": [],
   "source": [
    "collection_without_stop_words_after_all_stages = remove_stop_words_from_collection(collection_stemmed)\n",
    "language_model_without_stop_words_after_all_stages = create_language_model_from_collection(collection_without_stop_words_after_all_stages)"
   ]
  },
  {
   "cell_type": "code",
   "execution_count": null,
   "metadata": {},
   "outputs": [],
   "source": [
    "# print(len(basic_language_model),len(language_model_without_stop_words),len(language_model_case_folded),len(language_model_stemmed),len(language_model_without_stop_words_after_all_stages))"
   ]
  },
  {
   "cell_type": "code",
   "execution_count": null,
   "metadata": {},
   "outputs": [],
   "source": [
    "# amount of words in each collection\n"
   ]
  },
  {
   "cell_type": "code",
   "execution_count": null,
   "metadata": {},
   "outputs": [],
   "source": [
    "def probability_of_word_from_the_language_models(word: str):\n",
    "    \"\"\"\n",
    "    get probability of a word from the language models\n",
    "    \"\"\"\n",
    "    prob:Dict[dict,float] = {}\n",
    "    if word in basic_language_model:\n",
    "        print(f\"word: {word} is in basic language model and probability is: {basic_language_model[word]:.7f}\")\n",
    "        prob[\"basic_language_model\"] = basic_language_model[word]\n",
    "        \n",
    "    if word in language_model_without_stop_words:\n",
    "        print(f\"word: {word} is in language model without stop words and probability is: {language_model_without_stop_words[word]:.7f}\")\n",
    "        prob[\"language_model_without_stop_words\"] = language_model_without_stop_words[word]\n",
    "        \n",
    "    word_case_folded = do_case_folding(word).strip()\n",
    "    if word_case_folded in language_model_case_folded:\n",
    "        print(f\"word: {word_case_folded} is in language model case folded and probability is: {language_model_case_folded[word_case_folded]:.7f}\")\n",
    "        prob[\"language_model_case_folded\"] = language_model_case_folded[word_case_folded]\n",
    "        \n",
    "    word_after_stemming = preform_stemming_using_porter(word_case_folded)\n",
    "    if word_after_stemming in language_model_stemmed:\n",
    "        print(f\"word: {word_after_stemming} is in language model stemmed and probability is: {language_model_stemmed[word_after_stemming]:.7f}\")\n",
    "        prob[\"language_model_stemmed\"] = language_model_stemmed[word_after_stemming]\n",
    "        \n",
    "    if word_after_stemming in language_model_without_stop_words_after_all_stages:\n",
    "        print(f\"word: {word_after_stemming} is in language model stemmed and removed all stop words again and probability is: {language_model_without_stop_words_after_all_stages[word_after_stemming]:.7f}\")\n",
    "        prob[\"language_model_without_stop_words_after_all_stages\"] = language_model_without_stop_words_after_all_stages[word_after_stemming]\n",
    "    return prob"
   ]
  },
  {
   "cell_type": "code",
   "execution_count": null,
   "metadata": {},
   "outputs": [],
   "source": [
    "query=\"Museum visitors’ behavior\"\n",
    "res={}\n",
    "for word in query.split():\n",
    "    print(f\"{word =}\")\n",
    "    res[word]= probability_of_word_from_the_language_models(word)\n",
    "    print(\"\\n\")"
   ]
  },
  {
   "cell_type": "code",
   "execution_count": null,
   "metadata": {},
   "outputs": [],
   "source": [
    "probs=[]\n",
    "for lm in list(res['Museum'].keys()):\n",
    "    prob=1\n",
    "    for k in res:\n",
    "        prob*=res[k][lm]\n",
    "            \n",
    "    print(f\"probability of the query '{query}' in the language model '{lm}' is {prob:.10f}\")\n",
    "    probs.append(prob)"
   ]
  },
  {
   "cell_type": "code",
   "execution_count": null,
   "metadata": {},
   "outputs": [],
   "source": [
    "from matplotlib import pyplot as plt\n"
   ]
  },
  {
   "cell_type": "code",
   "execution_count": null,
   "metadata": {},
   "outputs": [],
   "source": [
    "plt.figure(figsize=(20,5))\n",
    "plt.plot(list(res['Museum'].keys()),probs)"
   ]
  },
  {
   "cell_type": "code",
   "execution_count": null,
   "metadata": {},
   "outputs": [],
   "source": [
    "class LanguageModelDetails:\n",
    "    name:str\n",
    "    amount_of_words_in_collection:int\n",
    "    collection:List[str]\n",
    "    lm:Dict[str,float]\n",
    "    \n",
    "    def __init__(self,name:str,collection:List[str],lm:Dict[str,float]):\n",
    "        self.name=name\n",
    "        self.collection=collection\n",
    "        self.lm=lm\n",
    "        self.amount_of_words_in_collection=0\n",
    "        for doc in collection:\n",
    "            self.amount_of_words_in_collection+=len(doc.split())\n",
    "    \n",
    "    def get_lm_size(self):\n",
    "        return len(self.lm)\n",
    "    \n",
    "        "
   ]
  },
  {
   "cell_type": "code",
   "execution_count": null,
   "metadata": {},
   "outputs": [],
   "source": [
    "#TODO: change the code to use this class"
   ]
  },
  {
   "cell_type": "code",
   "execution_count": null,
   "metadata": {},
   "outputs": [],
   "source": [
    "basic=LanguageModelDetails(\"basic\",collection,basic_language_model)\n",
    "\n",
    "stop_words_details=LanguageModelDetails(\"stopwords\",collection_without_stop_words,language_model_without_stop_words)\n",
    "\n",
    "case_folded=LanguageModelDetails(\"case_folded\",collection_case_folded,language_model_case_folded)\n",
    "\n",
    "stemmed=LanguageModelDetails(\"stemmed\",collection_stemmed,language_model_stemmed)\n",
    "\n",
    "after_all_stages=LanguageModelDetails(\"after_all_stages\",collection_without_stop_words_after_all_stages,language_model_without_stop_words_after_all_stages)\n",
    "\n",
    "objs=(basic,stop_words_details,case_folded,stemmed,after_all_stages)"
   ]
  },
  {
   "cell_type": "code",
   "execution_count": null,
   "metadata": {},
   "outputs": [],
   "source": [
    "type(objs)"
   ]
  },
  {
   "cell_type": "code",
   "execution_count": null,
   "metadata": {},
   "outputs": [],
   "source": [
    "for obj in objs:\n",
    "    try:\n",
    "        print(f\"{obj.name} has {obj.get_lm_size()} words in the language model, and {obj.amount_of_words_in_collection} words in the collection\\n\")\n",
    "    except:\n",
    "        print(f\"{type(obj)}, {obj}\")"
   ]
  },
  {
   "cell_type": "code",
   "execution_count": null,
   "metadata": {},
   "outputs": [],
   "source": []
  },
  {
   "cell_type": "code",
   "execution_count": null,
   "metadata": {},
   "outputs": [],
   "source": [
    "data={}\n",
    "for obj in objs:\n",
    "    data[obj.name]=[obj.get_lm_size(),obj.amount_of_words_in_collection]\n",
    "df=pd.DataFrame.from_dict(data,columns=[\"Dictionary size\",\"amount_of_words_in_collection\"],orient=\"index\")\n"
   ]
  },
  {
   "cell_type": "code",
   "execution_count": null,
   "metadata": {},
   "outputs": [],
   "source": [
    "df"
   ]
  },
  {
   "cell_type": "code",
   "execution_count": null,
   "metadata": {},
   "outputs": [],
   "source": [
    "# כמה מילות עצירה קיימת במאגר המקורי\n",
    "counter=0\n",
    "for doc in collection:\n",
    "    for word in doc.split():\n",
    "        if word in stop_words:\n",
    "            counter+=1\n",
    "counter"
   ]
  },
  {
   "cell_type": "code",
   "execution_count": null,
   "metadata": {},
   "outputs": [],
   "source": []
  }
 ],
 "metadata": {
  "interpreter": {
   "hash": "9b025add082eba9f465bb7a51d61eaafbf35b7a16776511b49a7c1679204e3ae"
  },
  "kernelspec": {
   "display_name": "Python 3.8.5 64-bit ('base': conda)",
   "language": "python",
   "name": "python3"
  },
  "language_info": {
   "codemirror_mode": {
    "name": "ipython",
    "version": 3
   },
   "file_extension": ".py",
   "mimetype": "text/x-python",
   "name": "python",
   "nbconvert_exporter": "python",
   "pygments_lexer": "ipython3",
   "version": "3.9.7"
  },
  "orig_nbformat": 4
 },
 "nbformat": 4,
 "nbformat_minor": 2
}
